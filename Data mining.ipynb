{
 "cells": [
  {
   "cell_type": "markdown",
   "id": "0157c89c",
   "metadata": {},
   "source": [
    "#GÖMÜLÜ FONKSİYONLAR"
   ]
  },
  {
   "cell_type": "code",
   "execution_count": 5,
   "id": "aa0d8c65",
   "metadata": {},
   "outputs": [
    {
     "name": "stdout",
     "output_type": "stream",
     "text": [
      "Python ile veri madenciliği\n",
      "o-----\n",
      "**********\n"
     ]
    }
   ],
   "source": [
    "print(\"Python ile veri madenciliği\")\n",
    "print(\"o-----\")\n",
    "print(\"*\"*10)"
   ]
  },
  {
   "cell_type": "code",
   "execution_count": 6,
   "id": "f1bec671",
   "metadata": {},
   "outputs": [
    {
     "name": "stdout",
     "output_type": "stream",
     "text": [
      "Help on built-in function print in module builtins:\n",
      "\n",
      "print(*args, sep=' ', end='\\n', file=None, flush=False)\n",
      "    Prints the values to a stream, or to sys.stdout by default.\n",
      "    \n",
      "    sep\n",
      "      string inserted between values, default a space.\n",
      "    end\n",
      "      string appended after the last value, default a newline.\n",
      "    file\n",
      "      a file-like object (stream); defaults to the current sys.stdout.\n",
      "    flush\n",
      "      whether to forcibly flush the stream.\n",
      "\n"
     ]
    }
   ],
   "source": [
    "help(print)"
   ]
  },
  {
   "cell_type": "markdown",
   "id": "df656593",
   "metadata": {},
   "source": [
    "*print() fonksiyonunun sep parametresi, print() fonksiyonuna geçirilen birden fazla değerin (argümanın) arasına isteğe bağlı bir ayırıcı karakter veya dize eklemek için kullanılır. Normalde, print() fonksiyonu, argümanlar arasına bir boşluk ekler, ancak sep parametresi kullanılarak bu davranış değiştirilebilir.\n",
    "\n",
    "Varsayılan olarak, print() fonksiyonu, her argüman arasına bir boşluk ekler. Ancak, sep parametresini kullanarak bu ayırıcıyı değiştirebiliriz.*\n",
    "\n",
    "\n",
    "\n"
   ]
  },
  {
   "cell_type": "code",
   "execution_count": 8,
   "id": "5c302ad7",
   "metadata": {},
   "outputs": [
    {
     "name": "stdout",
     "output_type": "stream",
     "text": [
      "python-ile-veri-madenciliği\n"
     ]
    }
   ],
   "source": [
    "print(\"python\", \"ile\",\"veri\",\"madenciliği\", sep =\"-\")"
   ]
  },
  {
   "cell_type": "markdown",
   "id": "39c24644",
   "metadata": {},
   "source": [
    "print() fonsiyonunun \\n özelliği ile yazdırılacak metin alt satıra yazdırılabilir."
   ]
  },
  {
   "cell_type": "code",
   "execution_count": 10,
   "id": "b7281abf",
   "metadata": {},
   "outputs": [
    {
     "name": "stdout",
     "output_type": "stream",
     "text": [
      "python\n",
      "ile\n",
      "veri\n",
      "madenciliği\n"
     ]
    }
   ],
   "source": [
    "print(\"python\\nile\\nveri\\nmadenciliği\")"
   ]
  },
  {
   "cell_type": "markdown",
   "id": "89ffe0c0",
   "metadata": {},
   "source": [
    "\\t karakteri bir tab boşluk bırakarak ekrana yazdırır."
   ]
  },
  {
   "cell_type": "code",
   "execution_count": 11,
   "id": "fd605033",
   "metadata": {},
   "outputs": [
    {
     "name": "stdout",
     "output_type": "stream",
     "text": [
      "python\tile\tveri\tmadenciliği\n"
     ]
    }
   ],
   "source": [
    "print(\"python\\tile\\tveri\\tmadenciliği\")"
   ]
  },
  {
   "cell_type": "markdown",
   "id": "50e5069a",
   "metadata": {},
   "source": [
    "Format print() özelliği ile \"kurtuluş\" \"safa\" isminde bir hastanın bilgilerini ekrana yazdırmak için {} özelliği kullanılır."
   ]
  },
  {
   "cell_type": "code",
   "execution_count": 13,
   "id": "b5e23b24",
   "metadata": {},
   "outputs": [
    {
     "name": "stdout",
     "output_type": "stream",
     "text": [
      "Bugün hastaneye Kurtuluş safa isminde  22 yaşında bir hasta gelmiştir. Hastalığının Guatr olduğu tespit edildiğinden dolayı 2 günlük tedaviden sonra taburcu edildi.\n"
     ]
    }
   ],
   "source": [
    "print(\"Bugün hastaneye {} isminde  {} yaşında bir hasta gelmiştir. Hastalığının {} olduğu tespit edildiğinden dolayı {} günlük tedaviden sonra {} edildi.\".format(\"Kurtuluş safa\",22,\"Guatr\",2,\"taburcu\"))"
   ]
  },
  {
   "cell_type": "markdown",
   "id": "65b914e6",
   "metadata": {},
   "source": [
    "abs() fonksiyonu, bir sayının mutlak değerini döndüren gömülü bir Python fonksiyonudur. Yani, bu fonksiyon bir sayının pozitif değerini döndürür."
   ]
  },
  {
   "cell_type": "code",
   "execution_count": 14,
   "id": "43b60492",
   "metadata": {},
   "outputs": [
    {
     "name": "stdout",
     "output_type": "stream",
     "text": [
      "5\n",
      "10\n"
     ]
    }
   ],
   "source": [
    "print(abs(-5))\n",
    "print(abs(10))"
   ]
  },
  {
   "cell_type": "markdown",
   "id": "363974ca",
   "metadata": {},
   "source": [
    "all() fonksiyonu, bir iterable (örneğin, liste, demet veya dize gibi) içindeki tüm öğelerin doğruluğunu kontrol eden bir Python gömülü fonksiyondur.\n",
    "\n",
    "Bu fonksiyon, iterable içindeki tüm öğeler True ise True değerini döndürür. Eğer en az bir öğe False ise veya iterable boş ise False değerini döndürür."
   ]
  },
  {
   "cell_type": "code",
   "execution_count": 15,
   "id": "d0c6f252",
   "metadata": {},
   "outputs": [
    {
     "name": "stdout",
     "output_type": "stream",
     "text": [
      "True\n"
     ]
    }
   ],
   "source": [
    "#example-1\n",
    "list = [True,True,True]\n",
    "print(all(list))\n",
    "\n",
    "#example-2\n",
    "list = [True,False,True]\n",
    "print(all(list))\n",
    "\n",
    "#example-3\n",
    "list = [1,2,3,4,5,6,7,8,9,10]\n",
    "print(all(list))\n",
    "\n",
    "#example\n",
    "list"
   ]
  },
  {
   "cell_type": "markdown",
   "id": "0aaafad1",
   "metadata": {},
   "source": [
    "#example-3 açıklama:\n",
    "all() fonksiyonu, verilen bir iterable içindeki tüm öğelerin doğruluğunu kontrol eder. Ancak, bu kontrolde sadece 0'ı False olarak kabul eder. Diğer sayısal değerler (pozitif veya negatif) True olarak kabul edilir.\n",
    "\n",
    "Yani, liste = [0, 1, 2, 3, 4] durumunda, 0 öğesi False olarak kabul edilir, çünkü sayısal olarak False değerindedir. Dolayısıyla, all(liste) ifadesi False değerini döndürür.\n",
    "\n",
    "Diğer yandan, 1, 2, 3 ve 4 öğeleri sayısal olarak True değerindedir. Ancak, all() fonksiyonu, iterable içinde bir False değeri bulduğu anda işlemi durdurur ve False değerini döndürür. Bu nedenle, diğer öğeler True bile olsa, 0 öğesi False olduğu için all(liste) ifadesi False değerini döndürür."
   ]
  },
  {
   "cell_type": "markdown",
   "id": "cc5fb271",
   "metadata": {},
   "source": [
    "<h6>any() fonksiyonu</h6>, bir iterable (örneğin, liste, demet veya dize gibi) içindeki en az bir öğenin doğruluğunu kontrol eden bir Python gömülü fonksiyondur.\n",
    "\n",
    "Bu fonksiyon, iterable içindeki en az bir öğe True ise True değerini döndürür. Eğer iterable boş ise False değerini döndürür."
   ]
  },
  {
   "cell_type": "code",
   "execution_count": 16,
   "id": "f6ae3dc1",
   "metadata": {},
   "outputs": [
    {
     "name": "stdout",
     "output_type": "stream",
     "text": [
      "False\n",
      "True\n",
      "False\n"
     ]
    }
   ],
   "source": [
    "#example-1\n",
    "list = [False,False,False]\n",
    "print(any(list))\n",
    "\n",
    "#example-2\n",
    "list = [False,True,False]\n",
    "print(any(list))\n",
    "\n",
    "#example-3\n",
    "list = [0,0,0,0]\n",
    "print(any(list))"
   ]
  },
  {
   "cell_type": "markdown",
   "id": "ea8aa3e7",
   "metadata": {},
   "source": [
    "<h6>Nerelerde kullanılır?</h6>\n",
    "any() fonksiyonu, bir koşulun bir iterable içinde en az bir öğe için geçerli olup olmadığını kontrol etmek için kullanılır. Bu nedenle, genellikle bir iterable içindeki öğelerin varlığını veya doğruluğunu kontrol etmek için kullanılır. İşte any() fonksiyonunun yaygın kullanım alanlarından bazıları:\n",
    "\n",
    "<h6>Koşullu Kontrollerde:</h6> Bir iterable içinde belirli bir koşulu sağlayan en az bir öğenin varlığını kontrol etmek için kullanılır. Örneğin, bir listede en az bir negatif sayı var mı diye kontrol edebiliriz."
   ]
  },
  {
   "cell_type": "code",
   "execution_count": 19,
   "id": "3bb29c74",
   "metadata": {},
   "outputs": [
    {
     "name": "stdout",
     "output_type": "stream",
     "text": [
      "Listede en az bir negatif sayı var.;\n"
     ]
    }
   ],
   "source": [
    "numbers = [1,2,-3,4,5]\n",
    "if any(num < 0 for num in numbers):\n",
    "    print(\"Listede en az bir negatif sayı var.;\")"
   ]
  },
  {
   "cell_type": "markdown",
   "id": "dd1b73f7",
   "metadata": {},
   "source": [
    "<h6>Dosya İşlemlerinde:</h6> Bir dosyanın içinde belirli bir koşulu sağlayan en az bir satırın varlığını kontrol etmek için kullanılabilir. Kendiniz de bir dosya oluşturarak aynı komutları deneyebilirsiniz."
   ]
  },
  {
   "cell_type": "code",
   "execution_count": 22,
   "id": "632fef00",
   "metadata": {},
   "outputs": [
    {
     "ename": "FileNotFoundError",
     "evalue": "[Errno 2] No such file or directory: 'file.txt'",
     "output_type": "error",
     "traceback": [
      "\u001b[1;31m---------------------------------------------------------------------------\u001b[0m",
      "\u001b[1;31mFileNotFoundError\u001b[0m                         Traceback (most recent call last)",
      "Cell \u001b[1;32mIn[22], line 1\u001b[0m\n\u001b[1;32m----> 1\u001b[0m \u001b[38;5;28;01mwith\u001b[39;00m \u001b[38;5;28mopen\u001b[39m(\u001b[38;5;124m\"\u001b[39m\u001b[38;5;124mfile.txt\u001b[39m\u001b[38;5;124m\"\u001b[39m) \u001b[38;5;28;01mas\u001b[39;00m file:\n\u001b[0;32m      2\u001b[0m     \u001b[38;5;28;01mif\u001b[39;00m \u001b[38;5;28many\u001b[39m(line\u001b[38;5;241m.\u001b[39mstartswith(\u001b[38;5;124m\"\u001b[39m\u001b[38;5;124mError!\u001b[39m\u001b[38;5;124m\"\u001b[39m) \u001b[38;5;28;01mfor\u001b[39;00m line \u001b[38;5;129;01min\u001b[39;00m file):\n\u001b[0;32m      3\u001b[0m         \u001b[38;5;28mprint\u001b[39m(\u001b[38;5;124m\"\u001b[39m\u001b[38;5;124mDosyada en az bir hata var\u001b[39m\u001b[38;5;124m\"\u001b[39m)\n",
      "File \u001b[1;32m~\\anaconda3\\Lib\\site-packages\\IPython\\core\\interactiveshell.py:286\u001b[0m, in \u001b[0;36m_modified_open\u001b[1;34m(file, *args, **kwargs)\u001b[0m\n\u001b[0;32m    279\u001b[0m \u001b[38;5;28;01mif\u001b[39;00m file \u001b[38;5;129;01min\u001b[39;00m {\u001b[38;5;241m0\u001b[39m, \u001b[38;5;241m1\u001b[39m, \u001b[38;5;241m2\u001b[39m}:\n\u001b[0;32m    280\u001b[0m     \u001b[38;5;28;01mraise\u001b[39;00m \u001b[38;5;167;01mValueError\u001b[39;00m(\n\u001b[0;32m    281\u001b[0m         \u001b[38;5;124mf\u001b[39m\u001b[38;5;124m\"\u001b[39m\u001b[38;5;124mIPython won\u001b[39m\u001b[38;5;124m'\u001b[39m\u001b[38;5;124mt let you open fd=\u001b[39m\u001b[38;5;132;01m{\u001b[39;00mfile\u001b[38;5;132;01m}\u001b[39;00m\u001b[38;5;124m by default \u001b[39m\u001b[38;5;124m\"\u001b[39m\n\u001b[0;32m    282\u001b[0m         \u001b[38;5;124m\"\u001b[39m\u001b[38;5;124mas it is likely to crash IPython. If you know what you are doing, \u001b[39m\u001b[38;5;124m\"\u001b[39m\n\u001b[0;32m    283\u001b[0m         \u001b[38;5;124m\"\u001b[39m\u001b[38;5;124myou can use builtins\u001b[39m\u001b[38;5;124m'\u001b[39m\u001b[38;5;124m open.\u001b[39m\u001b[38;5;124m\"\u001b[39m\n\u001b[0;32m    284\u001b[0m     )\n\u001b[1;32m--> 286\u001b[0m \u001b[38;5;28;01mreturn\u001b[39;00m io_open(file, \u001b[38;5;241m*\u001b[39margs, \u001b[38;5;241m*\u001b[39m\u001b[38;5;241m*\u001b[39mkwargs)\n",
      "\u001b[1;31mFileNotFoundError\u001b[0m: [Errno 2] No such file or directory: 'file.txt'"
     ]
    }
   ],
   "source": [
    "with open(\"file.txt\") as file:\n",
    "    if any(line.startswith(\"Error!\") for line in file):\n",
    "        print(\"Dosyada en az bir hata var\")"
   ]
  },
  {
   "cell_type": "markdown",
   "id": "a8d906b5",
   "metadata": {},
   "source": [
    "<h6>Test Koşullarında:</h6> Bir test durumunda, belirli bir koşulu sağlayan en az bir testin varlığını kontrol etmek için kullanılabilir. Örneğin, bir test yürütüldüğünde en az bir hata olup olmadığını kontrol edebiliriz."
   ]
  },
  {
   "cell_type": "code",
   "execution_count": 23,
   "id": "94dc8358",
   "metadata": {},
   "outputs": [
    {
     "name": "stdout",
     "output_type": "stream",
     "text": [
      "En az bir test başarısız oldu.\n"
     ]
    }
   ],
   "source": [
    "test_result =[True,False,False,False,True,False]\n",
    "if any(result is False for result in test_result):\n",
    "    print(\"En az bir test başarısız oldu.\")"
   ]
  },
  {
   "cell_type": "markdown",
   "id": "c50416a2",
   "metadata": {},
   "source": [
    "<h5>ascii() fonksiyonu,</h5> bir nesnenin insan tarafından okunabilir ASCII karakterlerine dönüştürülmüş bir kopyasını oluşturan bir Python gömülü fonksiyonudur.\n",
    "\n",
    "Bu fonksiyon, Unicode karakterlerini ve diğer özel karakterleri ASCII karakterlerine dönüştürür. Eğer bir nesne, ASCII karakter seti içinde değilse, o karakter yerine \\x kaçış dizisi kullanılır. Bu, özellikle belirli karakterlerin Unicode temsilini veya kaçış dizisini görmek istediğinizde faydalıdır.\n",
    "\n",
    ">Bunun yanında, bu fonksiyon özellikle karakterlerin kaçış dizilerini okumanız gerektiğinde ve hata ayıklama yapmanız gerektiğinde faydalıdır."
   ]
  },
  {
   "cell_type": "code",
   "execution_count": 26,
   "id": "d238abcb",
   "metadata": {},
   "outputs": [
    {
     "name": "stdout",
     "output_type": "stream",
     "text": [
      "'Hello'\n",
      "'switch'\n"
     ]
    }
   ],
   "source": [
    "print(ascii(\"Hello\"))\n",
    "print(ascii(\"switch\"))"
   ]
  },
  {
   "cell_type": "markdown",
   "id": "abb1be80",
   "metadata": {},
   "source": [
    "<h6>bin() fonksiyonu,</h6> bir tam sayının ikili (binary) olarak temsilini döndüren bir Python gömülü fonksiyondur. Yani, bu fonksiyon bir tam sayıyı ikili (2'lik taban) olarak ifade eden bir dize döndürür.\n",
    "\n",
    ">bin() fonksiyonu, dönüştürülen ikili sayıların başına 0b ön ekini ekler. Bu ön ek, bu sayının ikili olarak temsil edildiğini belirtir.\n",
    "\n",
    "Örneğin, bin(5) çağrısı, 5 sayısının ikili temsilini 0b101 olarak döndürür. Burada, 0b ön eki, sayının ikili olarak temsil edildiğini belirtir ve sonraki kısımda ise 5 sayısının ikili değeri bulunur.\n",
    "\n",
    "Bu fonksiyon, özellikle bir sayının ikili temsilini bulmak veya ikili işlemler yapmak istediğinizde kullanışlıdır."
   ]
  },
  {
   "cell_type": "code",
   "execution_count": 27,
   "id": "5ff2dcf5",
   "metadata": {},
   "outputs": [
    {
     "name": "stdout",
     "output_type": "stream",
     "text": [
      "0b101\n",
      "0b100001\n",
      "0b1\n",
      "0b11101010\n"
     ]
    }
   ],
   "source": [
    "print(bin(5))\n",
    "print(bin(33))\n",
    "print(bin(1))\n",
    "print(bin(234))"
   ]
  },
  {
   "cell_type": "markdown",
   "id": "d0b18041",
   "metadata": {},
   "source": [
    "<h6>İkili (binary) işlemler:</h6> Bir sayının ikili (binary) temsilini bulmak veya ikili operasyonlar yapmak için kullanılır. Özellikle, bitwise işlemlerde (AND, OR, XOR, vs.) veya bit manipulation işlemlerinde kullanılabilir."
   ]
  },
  {
   "cell_type": "code",
   "execution_count": 33,
   "id": "cd934d7d",
   "metadata": {},
   "outputs": [
    {
     "name": "stdout",
     "output_type": "stream",
     "text": [
      "0b1111011\n"
     ]
    }
   ],
   "source": [
    "num = 123\n",
    "binary_representation = bin(num)\n",
    "print(bin(num))"
   ]
  },
  {
   "cell_type": "markdown",
   "id": "bfc1d523",
   "metadata": {},
   "source": [
    "<h6>Bit seviyesinde kontrol:</h6> Bir bitin durumunu kontrol etmek veya değiştirmek için kullanılabilir. Örneğin, bir bayrak durumunu (flag) kontrol etmek veya ayarlamak için."
   ]
  },
  {
   "cell_type": "code",
   "execution_count": 36,
   "id": "bbb33712",
   "metadata": {},
   "outputs": [
    {
     "name": "stdout",
     "output_type": "stream",
     "text": [
      "0b1010\n",
      "0b0\n"
     ]
    }
   ],
   "source": [
    "permission = 0b1010  \n",
    "read_permission = permission & 0b001 \n",
    "print(bin(permission))  \n",
    "print(bin(read_permission)) \n"
   ]
  },
  {
   "cell_type": "markdown",
   "id": "b2862f03",
   "metadata": {},
   "source": [
    "<h6>Bit Maskeleme:</h6> Belirli bir desenle eşleşen bitleri belirlemek için kullanılabilir. Örneğin, belirli bir desenle eşleşen veya eşleşmeyen bitleri kontrol etmek için kullanılabilir."
   ]
  },
  {
   "cell_type": "code",
   "execution_count": 38,
   "id": "60609735",
   "metadata": {},
   "outputs": [
    {
     "name": "stdout",
     "output_type": "stream",
     "text": [
      "0b101000\n"
     ]
    }
   ],
   "source": [
    "num = 0b101010\n",
    "mask = 0b111000\n",
    "matching_bits = bin(num & mask)\n",
    "print(matching_bits)"
   ]
  },
  {
   "cell_type": "markdown",
   "id": "0f725e7c",
   "metadata": {},
   "source": [
    "\n",
    "<h6>bool() fonksiyonu,</h6> bir değerin mantıksal (boolean) değerini döndüren bir Python gömülü fonksiyondur. Bu fonksiyon, verilen bir değerin doğruluk değerini belirlemek için kullanılır.\n",
    "\n",
    "Python'da, bir değerin doğruluk değeri True veya False olabilir. Örneğin, bir sayının sıfır olup olmadığını veya bir dizenin boş olup olmadığını kontrol etmek gibi durumlarda bool() fonksiyonu kullanılabilir."
   ]
  },
  {
   "cell_type": "code",
   "execution_count": 42,
   "id": "52812d11",
   "metadata": {},
   "outputs": [
    {
     "name": "stdout",
     "output_type": "stream",
     "text": [
      "True\n",
      "True\n",
      "True\n",
      "False\n",
      "False\n",
      "True\n",
      "False\n",
      "True\n"
     ]
    }
   ],
   "source": [
    "print(bool(-1))\n",
    "print(bool(-2))\n",
    "print(bool(1))\n",
    "print(bool(0))\n",
    "print(bool(\"\"))\n",
    "print(bool(\"what?\"))\n",
    "print(bool([]))\n",
    "print(bool([1,2,3,4]))"
   ]
  },
  {
   "cell_type": "markdown",
   "id": "6d83ff47",
   "metadata": {},
   "source": [
    "<h6>breakpoint(),</h6> Python 3.7'den itibaren eklenen bir gömülü fonksiyondur. Bu fonksiyon, kodun herhangi bir yerinde hata ayıklama (debugging) yapmak için bir hata ayıklama noktası eklemek için kullanılır.\n",
    "\n",
    "breakpoint() fonksiyonu çağrıldığında, Python hata ayıklama arayüzüne geçer ve programın çalışmasını burada duraklatır. Bu noktada, programın durumunu inceleyebilir, değişken değerlerini kontrol edebilir, adım adım kodu çalıştırabilir ve diğer hata ayıklama işlemlerini gerçekleştirebilirsiniz.\n",
    "\n"
   ]
  },
  {
   "cell_type": "code",
   "execution_count": 47,
   "id": "eee36e51",
   "metadata": {},
   "outputs": [
    {
     "name": "stdout",
     "output_type": "stream",
     "text": [
      "5\n"
     ]
    }
   ],
   "source": [
    "def calculate(a, b):\n",
    "    breakpoint()\n",
    "    return (a + b) * (a - b)\n",
    "\n",
    "result = calculate(3, 2)\n",
    "print(result)\n"
   ]
  },
  {
   "cell_type": "markdown",
   "id": "1e944b3e",
   "metadata": {},
   "source": [
    "<h6>bytearray(),</h6> Python'da bir veri türü ve bir gömülü fonksiyondur. bytearray, değiştirilebilir bir dizidir ve bir dizi baytı temsil eder.\n",
    "\n",
    "bytearray() fonksiyonu, farklı veri türlerini bytearray türüne dönüştürmek için kullanılır. Ayrıca, bir dizeyi veya bir dizedeki karakterleri temsil eden ASCII değerlerini bir bytearray nesnesine dönüştürmek için de kullanılabilir."
   ]
  },
  {
   "cell_type": "code",
   "execution_count": 59,
   "id": "07554354",
   "metadata": {},
   "outputs": [
    {
     "ename": "SyntaxError",
     "evalue": "invalid syntax (3896239854.py, line 7)",
     "output_type": "error",
     "traceback": [
      "\u001b[1;36m  Cell \u001b[1;32mIn[59], line 7\u001b[1;36m\u001b[0m\n\u001b[1;33m    byte_array _bytearray(bytes_obj)\u001b[0m\n\u001b[1;37m               ^\u001b[0m\n\u001b[1;31mSyntaxError\u001b[0m\u001b[1;31m:\u001b[0m invalid syntax\n"
     ]
    }
   ],
   "source": [
    " #example-1\n",
    "empty_bytearray = bytearray()\n",
    "print(empty_bytearray)\n",
    "\n",
    "#example-2\n",
    "bytes_obj = b'datamining'\n",
    "byte_array _bytearray(bytes_obj)\n",
    "print(byte_array)"
   ]
  },
  {
   "cell_type": "markdown",
   "id": "e50d933d",
   "metadata": {},
   "source": [
    "<h6>bytes()</h6> gömülü fonksiyonu, bir dizi bayt oluşturmak için kullanılır. Bayt, 0 ile 255 arasındaki tam sayıları temsil eder ve genellikle verileri doğrudan manipüle etmek için kullanılır. İşte bytes() fonksiyonunun kullanımıyla ilgili birkaç örnek:"
   ]
  },
  {
   "cell_type": "markdown",
   "id": "c9d8025a",
   "metadata": {},
   "source": [
    "Metin Dizisinden Baytlara Dönüştürme:"
   ]
  },
  {
   "cell_type": "code",
   "execution_count": 1,
   "id": "90a795f2",
   "metadata": {},
   "outputs": [
    {
     "name": "stdout",
     "output_type": "stream",
     "text": [
      "b'Write'\n"
     ]
    }
   ],
   "source": [
    "text = \"Write\"\n",
    "byte_array = bytes(text, 'utf-8')\n",
    "print(byte_array)"
   ]
  },
  {
   "cell_type": "markdown",
   "id": "1afe7321",
   "metadata": {},
   "source": [
    "Bayt Dizisinden Elemanlara Erişme:\n",
    "\n",
    "Bayt dizisindeki her bir elemana, indeks kullanarak erişebiliriz. Burada, baytlar bir 'hello' stringinin ASCII kodlarını temsil ediyor."
   ]
  },
  {
   "cell_type": "code",
   "execution_count": 2,
   "id": "44c3e878",
   "metadata": {},
   "outputs": [
    {
     "name": "stdout",
     "output_type": "stream",
     "text": [
      "104\n",
      "101\n",
      "108\n"
     ]
    }
   ],
   "source": [
    "byte = b'\\x68\\x65\\x6c\\x6c\\x6f'\n",
    "print(byte[0])\n",
    "print(byte[1])\n",
    "print(byte[2])"
   ]
  },
  {
   "cell_type": "markdown",
   "id": "de141c1c",
   "metadata": {},
   "source": [
    "Bayt Dizisinin Boyutunu Bulma:\n",
    " Bayt dizisinin uzunluğunu len() fonksiyonuyla bulabiliriz.\n",
    "\n",
    ">bytes() fonksiyonu, özellikle dosya işleme, ağ iletişimi ve diğer veri aktarımı senaryolarında, verileri bayt olarak manipüle etmemiz gerektiğinde yaygın olarak kullanılır.   "
   ]
  },
  {
   "cell_type": "code",
   "execution_count": 4,
   "id": "05c028f6",
   "metadata": {},
   "outputs": [
    {
     "name": "stdout",
     "output_type": "stream",
     "text": [
      "6\n"
     ]
    }
   ],
   "source": [
    "byte_array =b'Python'\n",
    "size = len(byte_array)\n",
    "print(size)"
   ]
  },
  {
   "cell_type": "markdown",
   "id": "30eaa857",
   "metadata": {},
   "source": [
    "<h6>Callable()</h6> gömülü bir fonksiyondur ve bir nesnenin çağrılabilir (callable) olup olmadığını kontrol eder. Bir nesne çağrılabilirse, bu nesne bir fonksiyon, yöntem, sınıf veya diğer çağrılabilir bir nesne olabilir. İşte callable() fonksiyonunun kullanımıyla ilgili birkaç örnek:\n",
    "\n",
    "Fonksiyonları Kontrol Etme:"
   ]
  },
  {
   "cell_type": "code",
   "execution_count": 6,
   "id": "f7a1f72c",
   "metadata": {},
   "outputs": [
    {
     "name": "stdout",
     "output_type": "stream",
     "text": [
      "True\n"
     ]
    }
   ],
   "source": [
    "def function():\n",
    "    pass\n",
    "print(callable(function))"
   ]
  },
  {
   "cell_type": "markdown",
   "id": "6d5cd79e",
   "metadata": {},
   "source": [
    "Sınıfları Kontrol Etme:\n",
    "\n",
    "MyClass adlı bir sınıf tanımlıyoruz ve bu sınıfın çağrılabilir olup olmadığını kontrol ediyoruz."
   ]
  },
  {
   "cell_type": "code",
   "execution_count": 8,
   "id": "c58de784",
   "metadata": {},
   "outputs": [
    {
     "name": "stdout",
     "output_type": "stream",
     "text": [
      "True\n"
     ]
    }
   ],
   "source": [
    "class MyClass:\n",
    "    def __init__(self):\n",
    "        pass\n",
    "print(callable(MyClass))    \n",
    "    "
   ]
  },
  {
   "cell_type": "markdown",
   "id": "22148d5d",
   "metadata": {},
   "source": [
    "Nesne Örneklerini Kontrol Etme:"
   ]
  },
  {
   "cell_type": "markdown",
   "id": "27e30cd0",
   "metadata": {},
   "source": [
    "MyClass sınıfından bir nesne oluşturuyoruz ve bu nesnenin çağrılabilir olup olmadığını kontrol ediyoruz. Nesneler çağrılabilir değildir."
   ]
  },
  {
   "cell_type": "code",
   "execution_count": 10,
   "id": "c5d54f2f",
   "metadata": {},
   "outputs": [
    {
     "name": "stdout",
     "output_type": "stream",
     "text": [
      "False\n"
     ]
    }
   ],
   "source": [
    "class MyClass:\n",
    "    def __init__(self):\n",
    "        pass\n",
    "    obj = MyClass()\n",
    "    print(callable(obj))"
   ]
  },
  {
   "cell_type": "markdown",
   "id": "872bff18",
   "metadata": {},
   "source": [
    "Dahili Fonksiyonları Kontrol Etme:\n",
    "    \n",
    "    Python'da birçok dahili fonksiyon bulunur ve bunlar da çağrılabilir nesnelerdir. callable() fonksiyonu, bir nesnenin çağrılabilir olup olmadığını belirlemek için kullanışlı bir araçtır."
   ]
  },
  {
   "cell_type": "code",
   "execution_count": 11,
   "id": "5c38a1bb",
   "metadata": {},
   "outputs": [
    {
     "name": "stdout",
     "output_type": "stream",
     "text": [
      "True\n",
      "True\n",
      "True\n"
     ]
    }
   ],
   "source": [
    "print(callable(len))\n",
    "print(callable(max))\n",
    "print(callable(min))"
   ]
  },
  {
   "cell_type": "markdown",
   "id": "f9f7fa33",
   "metadata": {},
   "source": [
    "<h6>chr()</h6> gömülü bir fonksiyondur ve bir Unicode kod noktasını karaktere dönüştürür. İşte chr() fonksiyonunun kullanımıyla ilgili bir örnek:"
   ]
  },
  {
   "cell_type": "code",
   "execution_count": 16,
   "id": "451fed72",
   "metadata": {},
   "outputs": [
    {
     "name": "stdout",
     "output_type": "stream",
     "text": [
      "\u0019\n",
      "#\n",
      "-\n",
      "7\n",
      "A\n"
     ]
    }
   ],
   "source": [
    "print(chr(25))\n",
    "print(chr(35))\n",
    "print(chr(45))\n",
    "print(chr(55))\n",
    "print(chr(65))"
   ]
  },
  {
   "cell_type": "markdown",
   "id": "4822367d",
   "metadata": {},
   "source": [
    "Bu örnekte, chr() fonksiyonu 65 Unicode kod noktasını karaktere dönüştürür ve çıktı olarak \"A\" karakterini verir.\n",
    "\n",
    "Genellikle, özellikle Unicode kod noktalarıyla çalışırken, kod noktalarını karakterlere dönüştürmek için chr() fonksiyonu kullanılır. Örneğin, dosya işleme, dil işleme veya karakter kodlaması gibi senaryolarda kullanılabilir."
   ]
  },
  {
   "cell_type": "markdown",
   "id": "a4a27f14",
   "metadata": {},
   "source": [
    "<h6>classmethod,</h6> Python'daki bir dekoratördür ve bir sınıf yönteminin bir sınıfın örneği üzerinde çağrılabilir olmasını sağlar. classmethod ile dekore edilen bir metot, sınıfın örneği oluşturulmadan doğrudan sınıf üzerinden çağrılabilir. Bu, sınıfın örneği üzerinde çalışmak yerine, sınıfın kendisi üzerinde işlem yapmak istediğinizde faydalıdır. İşte classmethod'ın kullanımıyla ilgili bir örnek:"
   ]
  },
  {
   "cell_type": "code",
   "execution_count": 17,
   "id": "d2828827",
   "metadata": {},
   "outputs": [
    {
     "name": "stdout",
     "output_type": "stream",
     "text": [
      "1\n"
     ]
    }
   ],
   "source": [
    "class MyClass:\n",
    "    count = 0\n",
    "    \n",
    "    @classmethod\n",
    "    def increase_count(cls):\n",
    "        cls.count += 1\n",
    "        \n",
    "MyClass.increase_count()\n",
    "print(MyClass.count)"
   ]
  },
  {
   "cell_type": "markdown",
   "id": "f59275ad",
   "metadata": {},
   "source": [
    "Bu örnekte, increase_count() metodu bir sınıf metodu olarak tanımlanmıştır ve @classmethod dekoratörüyle işaretlenmiştir. Bu, bu metodun sınıfın örneği oluşturulmadan doğrudan sınıf üzerinden çağrılabilir olduğu anlamına gelir. increase_count() çağrıldığında, count sınıf değişkeni arttırılır.\n",
    "\n",
    "classmethod, genellikle bir sınıfın durumunu veya davranışını değiştirmek için kullanılırken, sınıfın örnekleri üzerinde işlem yapmaya gerek olmadığında faydalıdır. Örneğin, bir sınıfın örneklerinin sayısını izlemek gibi durumlarda kullanılabilir."
   ]
  },
  {
   "cell_type": "markdown",
   "id": "ff48751e",
   "metadata": {},
   "source": [
    "<h6>*compile()*</h6> gömülü bir fonksiyondur ve Python kaynak kodunu derleyip bir kod nesnesi oluşturur. Bu nesne daha sonra exec() veya eval() gibi fonksiyonlarla çalıştırılabilir. compile() fonksiyonu genellikle çalışma zamanında dinamik olarak oluşturulan kodu yürütmek için kullanılır. İşte compile() fonksiyonunun kullanımıyla ilgili bir örnek:"
   ]
  },
  {
   "cell_type": "code",
   "execution_count": 21,
   "id": "7401ce4e",
   "metadata": {},
   "outputs": [
    {
     "ename": "SyntaxError",
     "evalue": "invalid syntax (2165272032.py, line 1)",
     "output_type": "error",
     "traceback": [
      "\u001b[1;36m  Cell \u001b[1;32mIn[21], line 1\u001b[1;36m\u001b[0m\n\u001b[1;33m    compiled_code =\u001b[0m\n\u001b[1;37m                   ^\u001b[0m\n\u001b[1;31mSyntaxError\u001b[0m\u001b[1;31m:\u001b[0m invalid syntax\n"
     ]
    }
   ],
   "source": [
    "code = \"\"\"\n",
    "def write():\n",
    "    print(\"yazdır\")\n",
    "    \n",
    "\"\"\"\n",
    "compiled_code = compile(code,\"<string>\",\"exec\")\n",
    "exec(compiled_code)"
   ]
  },
  {
   "cell_type": "markdown",
   "id": "98298489",
   "metadata": {},
   "source": [
    "Bu örnekte, code adlı bir metin dizesi tanımlıyoruz. Bu dize içinde bir fonksiyon tanımlanıyor (write) ve bu fonksiyon çağrılıyor. Daha sonra compile() fonksiyonunu kullanarak bu kod dizesini derliyoruz. compile() fonksiyonu üç argüman alır: source (derlenecek kaynak kodu içeren bir dize), filename (opsiyonel dosya adı, burada <string> kullanıldı) ve mode (derleme modu, burada \"exec\" kullanıldı çünkü bu bir programın yürütülmesi için derlenmiş kod). Son olarak, exec() fonksiyonuyla derlenmiş kodu yürütüyoruz, böylece \"Merhaba, dünya!\" mesajı ekrana yazdırılıyor.\n",
    "\n",
    "compile() fonksiyonu, dinamik olarak oluşturulan kodu yürütmek, derleme zamanında hataları tespit etmek veya kaynak kodunu dönüştürmek gibi senaryolarda kullanılabilir. Ancak, güvenlik açısından dikkatli kullanılmalıdır çünkü kullanıcı tarafından sağlanan kodları yürütmek potansiyel güvenlik riskleri oluşturabilir."
   ]
  },
  {
   "cell_type": "markdown",
   "id": "d5e5d2d4",
   "metadata": {},
   "source": [
    "<h6>delattr()</h6> gömülü bir fonksiyondur ve bir nesnenin özniteliğini silmek için kullanılır. Genellikle Python'da dinamik öznitelikleri yönetmek için kullanılır. İşte delattr() fonksiyonunun kullanımıyla ilgili bir örnek:\n",
    "\n"
   ]
  },
  {
   "cell_type": "code",
   "execution_count": 26,
   "id": "cd424a81",
   "metadata": {},
   "outputs": [
    {
     "name": "stdout",
     "output_type": "stream",
     "text": [
      "Toyota\n",
      "False\n"
     ]
    }
   ],
   "source": [
    "class Araba:\n",
    "    def __init__(self, marka, model):\n",
    "        self.marka = marka\n",
    "        self.model = model\n",
    "\n",
    "araba = Araba(\"Toyota\", \"Corolla\")\n",
    "print(araba.marka)  # Toyota\n",
    "\n",
    "# 'model' özniteliğini silme\n",
    "delattr(araba, 'model')\n",
    "\n",
    "# Artık 'model' özniteliği yok\n",
    "print(hasattr(araba, 'model'))  # False\n"
   ]
  },
  {
   "cell_type": "markdown",
   "id": "e591b82a",
   "metadata": {},
   "source": [
    "Bu örnekte, Araba sınıfı tanımlanmış ve __init__() yöntemi aracılığıyla marka ve model öznitelikleri atanmıştır. Daha sonra bir Araba örneği oluşturulur ve delattr() kullanılarak bu örneğin model özniteliği silinir. Sonuç olarak, hasattr() fonksiyonuyla model özniteliğinin artık mevcut olmadığı kontrol edilir.\n",
    "\n",
    "delattr() fonksiyonu, özellikle bir nesnenin özniteliklerini programın çalışma zamanında dinamik olarak yönetmek istediğinizde faydalıdır.\n",
    "\n",
    "\n",
    "\n",
    "\n",
    "\n"
   ]
  },
  {
   "cell_type": "markdown",
   "id": "65fb7fda",
   "metadata": {},
   "source": [
    "<h6>input()</h6> gömülü bir fonksiyondur ve kullanıcıdan bir girdi almak için kullanılır. Bu fonksiyon çalıştırıldığında, program çalışması duraklar ve kullanıcıdan bir girdi satırı bekler. Kullanıcı bir şeyler yazdığında ve Enter tuşuna bastığında, input() fonksiyonu girdiyi bir dize olarak döndürür. İşte input() fonksiyonunun kullanımıyla ilgili bir örnek:"
   ]
  },
  {
   "cell_type": "code",
   "execution_count": 29,
   "id": "43970618",
   "metadata": {},
   "outputs": [
    {
     "name": "stdout",
     "output_type": "stream",
     "text": [
      "İsminizi Giriniz:demir\n",
      "Merhaba demir\n"
     ]
    }
   ],
   "source": [
    "name = input(\"İsminizi Giriniz:\")\n",
    "print(\"Merhaba\", name)"
   ]
  },
  {
   "cell_type": "markdown",
   "id": "17d4d381",
   "metadata": {},
   "source": [
    "Bu örnekte, input() fonksiyonu kullanıcıya \"İsminizi giriniz:\" şeklinde bir mesaj gösterir ve kullanıcıdan bir girdi alır. Kullanıcı bir giriş yaptıktan sonra, bu girdiyi isim değişkenine atarız ve daha sonra bu ismi ekrana yazdırırız.\n",
    "\n",
    ">input() fonksiyonu, genellikle interaktif programlar veya kullanıcıdan dinamik girdi almanız gereken senaryolarda kullanılır. Ancak, kullanıcı girdisiyle ilgili güvenlik endişelerine dikkat etmek önemlidir çünkü kullanıcı girdisi doğrudan programınızı etkileyebilir. Bu nedenle, kullanıcı girdilerini işlerken doğru türde doğrulama ve denetim yapılması önemlidir."
   ]
  },
  {
   "cell_type": "code",
   "execution_count": 34,
   "id": "d7a695bd",
   "metadata": {},
   "outputs": [
    {
     "data": {
      "text/plain": [
       "35"
      ]
     },
     "execution_count": 34,
     "metadata": {},
     "output_type": "execute_result"
    }
   ],
   "source": [
    "def function(x):\n",
    "    y = 3*x+5\n",
    "    return y\n",
    "function(10)"
   ]
  },
  {
   "cell_type": "code",
   "execution_count": null,
   "id": "ad4c5d7a",
   "metadata": {},
   "outputs": [],
   "source": []
  }
 ],
 "metadata": {
  "kernelspec": {
   "display_name": "Python 3 (ipykernel)",
   "language": "python",
   "name": "python3"
  },
  "language_info": {
   "codemirror_mode": {
    "name": "ipython",
    "version": 3
   },
   "file_extension": ".py",
   "mimetype": "text/x-python",
   "name": "python",
   "nbconvert_exporter": "python",
   "pygments_lexer": "ipython3",
   "version": "3.11.5"
  }
 },
 "nbformat": 4,
 "nbformat_minor": 5
}
